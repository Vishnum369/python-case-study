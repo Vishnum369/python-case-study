{
  "nbformat": 4,
  "nbformat_minor": 0,
  "metadata": {
    "colab": {
      "provenance": [],
      "authorship_tag": "ABX9TyOYTVLaBGnie/qVpnHb9Uf7",
      "include_colab_link": true
    },
    "kernelspec": {
      "name": "python3",
      "display_name": "Python 3"
    },
    "language_info": {
      "name": "python"
    }
  },
  "cells": [
    {
      "cell_type": "markdown",
      "metadata": {
        "id": "view-in-github",
        "colab_type": "text"
      },
      "source": [
        "<a href=\"https://colab.research.google.com/github/Vishnum369/python-case-study/blob/main/casestudynppd.ipynb\" target=\"_parent\"><img src=\"https://colab.research.google.com/assets/colab-badge.svg\" alt=\"Open In Colab\"/></a>"
      ]
    },
    {
      "cell_type": "markdown",
      "source": [
        "1)"
      ],
      "metadata": {
        "id": "Lo9CdJrp_aCp"
      }
    },
    {
      "cell_type": "code",
      "execution_count": null,
      "metadata": {
        "id": "AP9N2d-xlzv6"
      },
      "outputs": [],
      "source": [
        "import pandas as pd\n",
        "import numpy as np"
      ]
    },
    {
      "cell_type": "markdown",
      "source": [
        "2)"
      ],
      "metadata": {
        "id": "3gycT9uh_diF"
      }
    },
    {
      "cell_type": "code",
      "source": [
        "df = pd.read_csv(\"https://raw.githubusercontent.com/laxmimerit/All-CSV-ML-Data-Files-Download/master/IMDB-Movie-Data.csv\")"
      ],
      "metadata": {
        "id": "-qcb1hoimRng"
      },
      "execution_count": null,
      "outputs": []
    },
    {
      "cell_type": "markdown",
      "source": [
        "3)\n"
      ],
      "metadata": {
        "id": "dEvC8OWN_fMm"
      }
    },
    {
      "cell_type": "code",
      "source": [
        "print(df.shape)"
      ],
      "metadata": {
        "colab": {
          "base_uri": "https://localhost:8080/"
        },
        "id": "Vgn7jl5Emujf",
        "outputId": "92e07019-6770-463a-c873-e9387ede8f27"
      },
      "execution_count": null,
      "outputs": [
        {
          "output_type": "stream",
          "name": "stdout",
          "text": [
            "(1000, 12)\n"
          ]
        }
      ]
    },
    {
      "cell_type": "code",
      "source": [
        "print(df.head())"
      ],
      "metadata": {
        "colab": {
          "base_uri": "https://localhost:8080/"
        },
        "id": "1EoHUknkoi9z",
        "outputId": "920d5243-1308-4b65-b922-f774f821d644"
      },
      "execution_count": null,
      "outputs": [
        {
          "output_type": "stream",
          "name": "stdout",
          "text": [
            "   Rank                    Title                     Genre  \\\n",
            "0     1  Guardians of the Galaxy   Action,Adventure,Sci-Fi   \n",
            "1     2               Prometheus  Adventure,Mystery,Sci-Fi   \n",
            "2     3                    Split           Horror,Thriller   \n",
            "3     4                     Sing   Animation,Comedy,Family   \n",
            "4     5            Suicide Squad  Action,Adventure,Fantasy   \n",
            "\n",
            "                                         Description              Director  \\\n",
            "0  A group of intergalactic criminals are forced ...            James Gunn   \n",
            "1  Following clues to the origin of mankind, a te...          Ridley Scott   \n",
            "2  Three girls are kidnapped by a man with a diag...    M. Night Shyamalan   \n",
            "3  In a city of humanoid animals, a hustling thea...  Christophe Lourdelet   \n",
            "4  A secret government agency recruits some of th...            David Ayer   \n",
            "\n",
            "                                              Actors  Year  Runtime (Minutes)  \\\n",
            "0  Chris Pratt, Vin Diesel, Bradley Cooper, Zoe S...  2014                121   \n",
            "1  Noomi Rapace, Logan Marshall-Green, Michael Fa...  2012                124   \n",
            "2  James McAvoy, Anya Taylor-Joy, Haley Lu Richar...  2016                117   \n",
            "3  Matthew McConaughey,Reese Witherspoon, Seth Ma...  2016                108   \n",
            "4  Will Smith, Jared Leto, Margot Robbie, Viola D...  2016                123   \n",
            "\n",
            "   Rating   Votes  Revenue (Millions)  Metascore  \n",
            "0     8.1  757074              333.13       76.0  \n",
            "1     7.0  485820              126.46       65.0  \n",
            "2     7.3  157606              138.12       62.0  \n",
            "3     7.2   60545              270.32       59.0  \n",
            "4     6.2  393727              325.02       40.0  \n"
          ]
        }
      ]
    },
    {
      "cell_type": "code",
      "source": [
        "print(df.columns)\n",
        "print(df.dtypes)\n",
        "print(df.isnull().sum())"
      ],
      "metadata": {
        "colab": {
          "base_uri": "https://localhost:8080/"
        },
        "id": "gTAPc7QBop49",
        "outputId": "177d8ae4-7b6f-4e21-db6a-cfaff3248cf5"
      },
      "execution_count": null,
      "outputs": [
        {
          "output_type": "stream",
          "name": "stdout",
          "text": [
            "Index(['Rank', 'Title', 'Genre', 'Description', 'Director', 'Actors', 'Year',\n",
            "       'Runtime (Minutes)', 'Rating', 'Votes', 'Revenue (Millions)',\n",
            "       'Metascore'],\n",
            "      dtype='object')\n",
            "Rank                    int64\n",
            "Title                  object\n",
            "Genre                  object\n",
            "Description            object\n",
            "Director               object\n",
            "Actors                 object\n",
            "Year                    int64\n",
            "Runtime (Minutes)       int64\n",
            "Rating                float64\n",
            "Votes                   int64\n",
            "Revenue (Millions)    float64\n",
            "Metascore             float64\n",
            "dtype: object\n",
            "Rank                    0\n",
            "Title                   0\n",
            "Genre                   0\n",
            "Description             0\n",
            "Director                0\n",
            "Actors                  0\n",
            "Year                    0\n",
            "Runtime (Minutes)       0\n",
            "Rating                  0\n",
            "Votes                   0\n",
            "Revenue (Millions)    128\n",
            "Metascore              64\n",
            "dtype: int64\n"
          ]
        }
      ]
    },
    {
      "cell_type": "markdown",
      "source": [
        "4)"
      ],
      "metadata": {
        "id": "uhNhbXMD_kKe"
      }
    },
    {
      "cell_type": "code",
      "source": [
        "df =df.drop_duplicates()"
      ],
      "metadata": {
        "id": "fnz-Zv9upLe3"
      },
      "execution_count": null,
      "outputs": []
    },
    {
      "cell_type": "markdown",
      "source": [
        "5)Rename columns (\"Title\" > \"Movie_Title\")"
      ],
      "metadata": {
        "id": "Lv5Vlh5D_mZd"
      }
    },
    {
      "cell_type": "code",
      "source": [
        " da = df.rename(columns={\"Title\":\"Movie_Title\"})\n",
        "print(da)"
      ],
      "metadata": {
        "colab": {
          "base_uri": "https://localhost:8080/"
        },
        "id": "bvORitq0pdVN",
        "outputId": "f4debe36-3693-480a-dfec-874095b00791"
      },
      "execution_count": null,
      "outputs": [
        {
          "output_type": "stream",
          "name": "stdout",
          "text": [
            "     Rank              Movie_Title                     Genre  \\\n",
            "0       1  Guardians of the Galaxy   Action,Adventure,Sci-Fi   \n",
            "1       2               Prometheus  Adventure,Mystery,Sci-Fi   \n",
            "2       3                    Split           Horror,Thriller   \n",
            "3       4                     Sing   Animation,Comedy,Family   \n",
            "4       5            Suicide Squad  Action,Adventure,Fantasy   \n",
            "..    ...                      ...                       ...   \n",
            "995   996     Secret in Their Eyes       Crime,Drama,Mystery   \n",
            "996   997          Hostel: Part II                    Horror   \n",
            "997   998   Step Up 2: The Streets       Drama,Music,Romance   \n",
            "998   999             Search Party          Adventure,Comedy   \n",
            "999  1000               Nine Lives     Comedy,Family,Fantasy   \n",
            "\n",
            "                                           Description              Director  \\\n",
            "0    A group of intergalactic criminals are forced ...            James Gunn   \n",
            "1    Following clues to the origin of mankind, a te...          Ridley Scott   \n",
            "2    Three girls are kidnapped by a man with a diag...    M. Night Shyamalan   \n",
            "3    In a city of humanoid animals, a hustling thea...  Christophe Lourdelet   \n",
            "4    A secret government agency recruits some of th...            David Ayer   \n",
            "..                                                 ...                   ...   \n",
            "995  A tight-knit team of rising investigators, alo...             Billy Ray   \n",
            "996  Three American college students studying abroa...              Eli Roth   \n",
            "997  Romantic sparks occur between two dance studen...            Jon M. Chu   \n",
            "998  A pair of friends embark on a mission to reuni...        Scot Armstrong   \n",
            "999  A stuffy businessman finds himself trapped ins...      Barry Sonnenfeld   \n",
            "\n",
            "                                                Actors  Year  \\\n",
            "0    Chris Pratt, Vin Diesel, Bradley Cooper, Zoe S...  2014   \n",
            "1    Noomi Rapace, Logan Marshall-Green, Michael Fa...  2012   \n",
            "2    James McAvoy, Anya Taylor-Joy, Haley Lu Richar...  2016   \n",
            "3    Matthew McConaughey,Reese Witherspoon, Seth Ma...  2016   \n",
            "4    Will Smith, Jared Leto, Margot Robbie, Viola D...  2016   \n",
            "..                                                 ...   ...   \n",
            "995  Chiwetel Ejiofor, Nicole Kidman, Julia Roberts...  2015   \n",
            "996  Lauren German, Heather Matarazzo, Bijou Philli...  2007   \n",
            "997  Robert Hoffman, Briana Evigan, Cassie Ventura,...  2008   \n",
            "998  Adam Pally, T.J. Miller, Thomas Middleditch,Sh...  2014   \n",
            "999  Kevin Spacey, Jennifer Garner, Robbie Amell,Ch...  2016   \n",
            "\n",
            "     Runtime (Minutes)  Rating   Votes  Revenue (Millions)  Metascore  \\\n",
            "0                  121     8.1  757074          333.130000       76.0   \n",
            "1                  124     7.0  485820          126.460000       65.0   \n",
            "2                  117     7.3  157606          138.120000       62.0   \n",
            "3                  108     7.2   60545          270.320000       59.0   \n",
            "4                  123     6.2  393727          325.020000       40.0   \n",
            "..                 ...     ...     ...                 ...        ...   \n",
            "995                111     6.2   27585           82.956376       45.0   \n",
            "996                 94     5.5   73152           17.540000       46.0   \n",
            "997                 98     6.2   70699           58.010000       50.0   \n",
            "998                 93     5.6    4881           82.956376       22.0   \n",
            "999                 87     5.3   12435           19.640000       11.0   \n",
            "\n",
            "     Num_Genres  \n",
            "0             3  \n",
            "1             3  \n",
            "2             2  \n",
            "3             3  \n",
            "4             3  \n",
            "..          ...  \n",
            "995           3  \n",
            "996           1  \n",
            "997           3  \n",
            "998           2  \n",
            "999           3  \n",
            "\n",
            "[1000 rows x 13 columns]\n"
          ]
        }
      ]
    },
    {
      "cell_type": "markdown",
      "source": [
        "6) Get unique genres"
      ],
      "metadata": {
        "id": "FPdX2cfy_sVV"
      }
    },
    {
      "cell_type": "code",
      "source": [
        "unique_genres=df['Genre'].unique()\n",
        "print(unique_genres)"
      ],
      "metadata": {
        "colab": {
          "base_uri": "https://localhost:8080/"
        },
        "id": "uah4uP-1qWME",
        "outputId": "b4f779cc-674c-4bd1-a140-cf077451549b"
      },
      "execution_count": null,
      "outputs": [
        {
          "output_type": "stream",
          "name": "stdout",
          "text": [
            "['Action,Adventure,Sci-Fi' 'Adventure,Mystery,Sci-Fi' 'Horror,Thriller'\n",
            " 'Animation,Comedy,Family' 'Action,Adventure,Fantasy' 'Comedy,Drama,Music'\n",
            " 'Comedy' 'Action,Adventure,Biography' 'Adventure,Drama,Romance'\n",
            " 'Adventure,Family,Fantasy' 'Biography,Drama,History'\n",
            " 'Animation,Adventure,Comedy' 'Action,Comedy,Drama' 'Action,Thriller'\n",
            " 'Biography,Drama' 'Drama,Mystery,Sci-Fi' 'Adventure,Drama,Thriller'\n",
            " 'Drama' 'Crime,Drama,Horror' 'Action,Adventure,Drama' 'Drama,Thriller'\n",
            " 'Action,Adventure,Comedy' 'Action,Horror,Sci-Fi' 'Adventure,Drama,Sci-Fi'\n",
            " 'Action,Adventure,Western' 'Comedy,Drama' 'Horror'\n",
            " 'Adventure,Drama,Fantasy' 'Action,Crime,Thriller' 'Action,Crime,Drama'\n",
            " 'Adventure,Drama,History' 'Crime,Horror,Thriller' 'Drama,Romance'\n",
            " 'Comedy,Drama,Romance' 'Horror,Mystery,Thriller' 'Crime,Drama,Mystery'\n",
            " 'Drama,Romance,Thriller' 'Drama,History,Thriller' 'Action,Drama,Thriller'\n",
            " 'Drama,History' 'Action,Drama,Romance' 'Drama,Fantasy' 'Action,Sci-Fi'\n",
            " 'Adventure,Drama,War' 'Action,Comedy,Fantasy' 'Biography,Comedy,Crime'\n",
            " 'Crime,Drama' 'Comedy,Crime,Drama' 'Action,Comedy,Crime'\n",
            " 'Animation,Drama,Fantasy' 'Horror,Mystery,Sci-Fi'\n",
            " 'Drama,Mystery,Thriller' 'Crime,Drama,Thriller' 'Biography,Crime,Drama'\n",
            " 'Crime,Mystery,Thriller' 'Action,Horror,Thriller' 'Romance,Sci-Fi'\n",
            " 'Action,Fantasy,War' 'Action,Biography,Drama' 'Drama,Horror,Mystery'\n",
            " 'Adventure,Drama,Family' 'Adventure,Comedy,Romance' 'Action'\n",
            " 'Adventure,Crime,Mystery' 'Comedy,Family,Musical'\n",
            " 'Adventure,Comedy,Drama' 'Drama,Horror,Thriller' 'Drama,Music'\n",
            " 'Mystery,Thriller' 'Mystery,Thriller,Western' 'Comedy,Family'\n",
            " 'Biography,Comedy,Drama' 'Drama,Western' 'Drama,Mystery,Romance'\n",
            " 'Action,Drama,Mystery' 'Action,Adventure,Crime'\n",
            " 'Adventure,Sci-Fi,Thriller' 'Action,Comedy,Mystery' 'Thriller,War'\n",
            " 'Action,Adventure,Thriller' 'Drama,Fantasy,Romance'\n",
            " 'Action,Drama,History' 'Animation,Adventure,Family' 'Adventure,Horror'\n",
            " 'Drama,Romance,Sci-Fi' 'Action,Adventure,Family' 'Action,Comedy'\n",
            " 'Comedy,Romance' 'Horror,Mystery' 'Drama,Family,Fantasy' 'Sci-Fi'\n",
            " 'Drama,War' 'Drama,Fantasy,Horror' 'Crime,Drama,History'\n",
            " 'Horror,Sci-Fi,Thriller' 'Action,Drama,Sport' 'Adventure,Biography,Drama'\n",
            " 'Biography,Drama,Thriller' 'Action,Adventure,Mystery' 'Drama,Horror'\n",
            " 'Comedy,Crime' 'Drama,Fantasy,War' 'Action,Adventure,Romance'\n",
            " 'Action,Drama,War' 'Drama,Musical,Romance' 'Drama,Sci-Fi,Thriller'\n",
            " 'Action,Drama,Sci-Fi' 'Drama,Sci-Fi' 'Adventure,Fantasy' 'Thriller'\n",
            " 'Biography,Drama,Romance' 'Action,Adventure' 'Action,Fantasy'\n",
            " 'Action,Drama,Horror' 'Comedy,Music,Romance' 'Biography,Drama,Sport'\n",
            " 'Action,Horror' 'Comedy,Horror,Thriller' 'Crime,Drama,Music'\n",
            " 'Action,Sci-Fi,Thriller' 'Drama,Horror,Sci-Fi' 'Drama,Sport'\n",
            " 'Comedy,Horror' 'Comedy,Fantasy,Romance' 'Comedy,Fantasy'\n",
            " 'Comedy,Drama,Fantasy' 'Adventure,Comedy,Horror' 'Comedy,Mystery'\n",
            " 'Action,Mystery,Sci-Fi' 'Action,Crime,Fantasy' 'Comedy,Fantasy,Horror'\n",
            " 'Animation,Action,Adventure' 'Action,Comedy,Family' 'Comedy,Sci-Fi'\n",
            " 'Action,Biography,Crime' 'Adventure,Comedy' 'Comedy,Music'\n",
            " 'Comedy,Drama,Horror' 'Action,Horror,Romance' 'Action,Drama,Fantasy'\n",
            " 'Action,Mystery,Thriller' 'Action,Adventure,Horror'\n",
            " 'Animation,Family,Fantasy' 'Adventure,Horror,Mystery'\n",
            " 'Action,Horror,Mystery' 'Adventure,Comedy,Family' 'Action,Crime,Mystery'\n",
            " 'Comedy,Drama,Family' 'Action,Crime,Sport' 'Mystery,Sci-Fi,Thriller'\n",
            " 'Sci-Fi,Thriller' 'Adventure,Drama,Horror' 'Biography,History,Thriller'\n",
            " 'Adventure,Comedy,Sci-Fi' 'Fantasy,Horror' 'Action,Fantasy,Thriller'\n",
            " 'Comedy,Romance,Sport' 'Animation,Action,Comedy' 'Drama,Fantasy,Thriller'\n",
            " 'Action,Comedy,Romance' 'Action,Fantasy,Horror' 'Mystery,Romance,Sci-Fi'\n",
            " 'Comedy,Drama,Thriller' 'Comedy,Western' 'Drama,History,War'\n",
            " 'Fantasy,Horror,Thriller' 'Drama,Horror,Musical' 'Drama,Family'\n",
            " 'Romance,Sci-Fi,Thriller' 'Animation,Fantasy' 'Drama,Mystery,War'\n",
            " 'Action,Drama,Family' 'Adventure,Drama,Western' 'Drama,Music,Romance'\n",
            " 'Comedy,Romance,Western' 'Adventure,Drama' 'Drama,Thriller,War'\n",
            " 'Drama,Fantasy,Mystery' 'Comedy,Crime,Thriller' 'Animation,Comedy,Drama'\n",
            " 'Action,Comedy,Sci-Fi' 'Drama,Romance,War' 'Adventure,Fantasy,Mystery'\n",
            " 'Mystery,Romance,Thriller' 'Biography,Drama,Mystery'\n",
            " 'Animation,Drama,Romance' 'Comedy,Horror,Romance' 'Action,Thriller,War'\n",
            " 'Action,Comedy,Horror' 'Action,Crime,Sci-Fi' 'Crime,Thriller'\n",
            " 'Comedy,Horror,Sci-Fi' 'Crime,Drama,Fantasy' 'Drama,Fantasy,Music'\n",
            " 'Action,Comedy,Sport' 'Fantasy,Mystery,Thriller' 'Adventure'\n",
            " 'Adventure,Biography' 'Adventure,Biography,Crime' 'Comedy,Drama,Musical'\n",
            " 'Comedy,Family,Romance' 'Biography,Drama,Family' 'Drama,Fantasy,Musical'\n",
            " 'Adventure,Family' 'Adventure,Comedy,Fantasy' 'Drama,Family,Music'\n",
            " 'Comedy,Family,Fantasy']\n"
          ]
        }
      ]
    },
    {
      "cell_type": "markdown",
      "source": [
        "7)Extract number of genres per movie"
      ],
      "metadata": {
        "id": "LEWNF89a_uhl"
      }
    },
    {
      "cell_type": "code",
      "source": [
        "df['Num_Genres'] = df['Genre'].apply(lambda x: len(x.split(',')))\n",
        "print([df['Num_Genres']])"
      ],
      "metadata": {
        "colab": {
          "base_uri": "https://localhost:8080/"
        },
        "id": "RKLWx_lFq3QY",
        "outputId": "5cccd0cc-88f0-4b68-e1cd-89be866be216"
      },
      "execution_count": null,
      "outputs": [
        {
          "output_type": "stream",
          "name": "stdout",
          "text": [
            "[0      3\n",
            "1      3\n",
            "2      2\n",
            "3      3\n",
            "4      3\n",
            "      ..\n",
            "995    3\n",
            "996    1\n",
            "997    3\n",
            "998    2\n",
            "999    3\n",
            "Name: Num_Genres, Length: 1000, dtype: int64]\n"
          ]
        }
      ]
    },
    {
      "cell_type": "markdown",
      "source": [
        "8)Handle missing values in 'Revenue (Millions)' and 'Metascore"
      ],
      "metadata": {
        "id": "9cadPnUy_wEF"
      }
    },
    {
      "cell_type": "code",
      "source": [
        " df['Revenue (Millions)'] = df['Revenue (Millions)'].fillna(df['Revenue (Millions)'].mean())\n",
        " df['Metascore'] = df['Metascore'].fillna(df['Metascore'].mean())\n",
        " print(df['Revenue (Millions)'])\n",
        " print(df['Metascore'])"
      ],
      "metadata": {
        "colab": {
          "base_uri": "https://localhost:8080/"
        },
        "id": "qpSbds7prk_S",
        "outputId": "e87e8e8a-8b20-4ff5-f448-4aaf73711615"
      },
      "execution_count": null,
      "outputs": [
        {
          "output_type": "stream",
          "name": "stdout",
          "text": [
            "0      333.130000\n",
            "1      126.460000\n",
            "2      138.120000\n",
            "3      270.320000\n",
            "4      325.020000\n",
            "          ...    \n",
            "995     82.956376\n",
            "996     17.540000\n",
            "997     58.010000\n",
            "998     82.956376\n",
            "999     19.640000\n",
            "Name: Revenue (Millions), Length: 1000, dtype: float64\n",
            "0      76.0\n",
            "1      65.0\n",
            "2      62.0\n",
            "3      59.0\n",
            "4      40.0\n",
            "       ... \n",
            "995    45.0\n",
            "996    46.0\n",
            "997    50.0\n",
            "998    22.0\n",
            "999    11.0\n",
            "Name: Metascore, Length: 1000, dtype: float64\n"
          ]
        }
      ]
    },
    {
      "cell_type": "markdown",
      "source": [
        "9)Top 5 movies by Rating"
      ],
      "metadata": {
        "id": "NwMeqTyQ_xx2"
      }
    },
    {
      "cell_type": "code",
      "source": [
        "top5_rating=da.nlargest(5,'Rating')\n",
        "print(top5_rating[['Movie_Title','Rating']])"
      ],
      "metadata": {
        "colab": {
          "base_uri": "https://localhost:8080/"
        },
        "id": "XoDrQiaSwOOh",
        "outputId": "3773d5f9-033c-468a-dec3-c58cd5b4beaf"
      },
      "execution_count": null,
      "outputs": [
        {
          "output_type": "stream",
          "name": "stdout",
          "text": [
            "         Movie_Title  Rating\n",
            "54   The Dark Knight     9.0\n",
            "80         Inception     8.8\n",
            "117           Dangal     8.8\n",
            "36      Interstellar     8.6\n",
            "96     Kimi no na wa     8.6\n"
          ]
        }
      ]
    },
    {
      "cell_type": "markdown",
      "source": [
        "10)Movies with highest/lowest revenue"
      ],
      "metadata": {
        "id": "jra2becm_zml"
      }
    },
    {
      "cell_type": "code",
      "source": [
        " highest_revenue=df.loc[df['Revenue (Millions)'].idxmax()]\n",
        " lowest_revenue=df.loc[df['Revenue (Millions)'].idxmin()]\n",
        " print(highest_revenue)\n",
        " print(lowest_revenue)"
      ],
      "metadata": {
        "colab": {
          "base_uri": "https://localhost:8080/"
        },
        "id": "zlS0Fi1MxgtZ",
        "outputId": "dcfbfa5f-e594-41df-c4a1-f2260b145a23"
      },
      "execution_count": null,
      "outputs": [
        {
          "output_type": "stream",
          "name": "stdout",
          "text": [
            "Rank                                                                 51\n",
            "Title                        Star Wars: Episode VII - The Force Awakens\n",
            "Genre                                          Action,Adventure,Fantasy\n",
            "Description           Three decades after the defeat of the Galactic...\n",
            "Director                                                    J.J. Abrams\n",
            "Actors                Daisy Ridley, John Boyega, Oscar Isaac, Domhna...\n",
            "Year                                                               2015\n",
            "Runtime (Minutes)                                                   136\n",
            "Rating                                                              8.1\n",
            "Votes                                                            661608\n",
            "Revenue (Millions)                                               936.63\n",
            "Metascore                                                          81.0\n",
            "Num_Genres                                                            3\n",
            "Name: 50, dtype: object\n",
            "Rank                                                                232\n",
            "Title                                                  A Kind of Murder\n",
            "Genre                                              Crime,Drama,Thriller\n",
            "Description           In 1960s New York, Walter Stackhouse is a succ...\n",
            "Director                                                   Andy Goddard\n",
            "Actors                Patrick Wilson, Jessica Biel, Haley Bennett, V...\n",
            "Year                                                               2016\n",
            "Runtime (Minutes)                                                    95\n",
            "Rating                                                              5.2\n",
            "Votes                                                              3305\n",
            "Revenue (Millions)                                                  0.0\n",
            "Metascore                                                          50.0\n",
            "Num_Genres                                                            3\n",
            "Name: 231, dtype: object\n"
          ]
        }
      ]
    },
    {
      "cell_type": "markdown",
      "source": [
        "11)Avg. rating by Director"
      ],
      "metadata": {
        "id": "N9uH9rDM_1X9"
      }
    },
    {
      "cell_type": "code",
      "source": [
        " avg_rating_director = df.groupby('Director')['Rating'].mean()\n",
        " print(avg_rating_director)"
      ],
      "metadata": {
        "colab": {
          "base_uri": "https://localhost:8080/"
        },
        "id": "1eR7TzYHzP8R",
        "outputId": "a2393220-6631-417b-b9e9-6d7e9c1cf540"
      },
      "execution_count": null,
      "outputs": [
        {
          "output_type": "stream",
          "name": "stdout",
          "text": [
            "Director\n",
            "Aamir Khan             8.50\n",
            "Abdellatif Kechiche    7.80\n",
            "Adam Leon              6.50\n",
            "Adam McKay             7.00\n",
            "Adam Shankman          6.30\n",
            "                       ... \n",
            "Xavier Dolan           7.55\n",
            "Yimou Zhang            6.10\n",
            "Yorgos Lanthimos       7.20\n",
            "Zack Snyder            7.04\n",
            "Zackary Adler          5.10\n",
            "Name: Rating, Length: 644, dtype: float64\n"
          ]
        }
      ]
    },
    {
      "cell_type": "markdown",
      "source": [
        "12) Movies per year"
      ],
      "metadata": {
        "id": "q6JW216h_20U"
      }
    },
    {
      "cell_type": "code",
      "source": [
        "movies_per_year = df['Year'].value_counts().sort_index()\n",
        "print(movies_per_year)"
      ],
      "metadata": {
        "colab": {
          "base_uri": "https://localhost:8080/"
        },
        "id": "22CU3nLN0Mx5",
        "outputId": "32499b57-6dd9-47d1-b4e6-aae9ee0d2201"
      },
      "execution_count": null,
      "outputs": [
        {
          "output_type": "stream",
          "name": "stdout",
          "text": [
            "Year\n",
            "2006     44\n",
            "2007     53\n",
            "2008     52\n",
            "2009     51\n",
            "2010     60\n",
            "2011     63\n",
            "2012     64\n",
            "2013     91\n",
            "2014     98\n",
            "2015    127\n",
            "2016    297\n",
            "Name: count, dtype: int64\n"
          ]
        }
      ]
    },
    {
      "cell_type": "markdown",
      "source": [
        "13)Movies with rating > 8 & revenue > 100M"
      ],
      "metadata": {
        "id": "x2O9O8C8_4Xs"
      }
    },
    {
      "cell_type": "code",
      "source": [
        "high_rating_revenue=df[(df['Rating']>8)&(df['Revenue (Millions)']>100)]\n",
        "print(high_rating_revenue)"
      ],
      "metadata": {
        "colab": {
          "base_uri": "https://localhost:8080/"
        },
        "id": "bq4EGTBf0rXf",
        "outputId": "1340829b-5ccb-492c-9c0a-10c5dd0d2482"
      },
      "execution_count": null,
      "outputs": [
        {
          "output_type": "stream",
          "name": "stdout",
          "text": [
            "     Rank                                         Title  \\\n",
            "0       1                       Guardians of the Galaxy   \n",
            "6       7                                    La La Land   \n",
            "36     37                                  Interstellar   \n",
            "50     51    Star Wars: Episode VII - The Force Awakens   \n",
            "54     55                               The Dark Knight   \n",
            "67     68                            Mad Max: Fury Road   \n",
            "74     75                                      Zootopia   \n",
            "76     77                                  The Avengers   \n",
            "77     78                          Inglourious Basterds   \n",
            "80     81                                     Inception   \n",
            "82     83                       The Wolf of Wall Street   \n",
            "83     84                                     Gone Girl   \n",
            "92     93                                      The Help   \n",
            "99    100                                  The Departed   \n",
            "114   115  Harry Potter and the Deathly Hallows: Part 2   \n",
            "124   125                         The Dark Knight Rises   \n",
            "138   139                                Shutter Island   \n",
            "144   145                              Django Unchained   \n",
            "241   242                                    Inside Out   \n",
            "427   428                          The Bourne Ultimatum   \n",
            "499   500                                            Up   \n",
            "634   635                                        WALL·E   \n",
            "645   646                                   Gran Torino   \n",
            "688   689                                   Toy Story 3   \n",
            "772   773                      How to Train Your Dragon   \n",
            "\n",
            "                          Genre  \\\n",
            "0       Action,Adventure,Sci-Fi   \n",
            "6            Comedy,Drama,Music   \n",
            "36       Adventure,Drama,Sci-Fi   \n",
            "50     Action,Adventure,Fantasy   \n",
            "54           Action,Crime,Drama   \n",
            "67      Action,Adventure,Sci-Fi   \n",
            "74   Animation,Adventure,Comedy   \n",
            "76                Action,Sci-Fi   \n",
            "77          Adventure,Drama,War   \n",
            "80      Action,Adventure,Sci-Fi   \n",
            "82       Biography,Comedy,Crime   \n",
            "83          Crime,Drama,Mystery   \n",
            "92                        Drama   \n",
            "99         Crime,Drama,Thriller   \n",
            "114     Adventure,Drama,Fantasy   \n",
            "124             Action,Thriller   \n",
            "138            Mystery,Thriller   \n",
            "144               Drama,Western   \n",
            "241  Animation,Adventure,Comedy   \n",
            "427     Action,Mystery,Thriller   \n",
            "499  Animation,Adventure,Comedy   \n",
            "634  Animation,Adventure,Family   \n",
            "645                       Drama   \n",
            "688  Animation,Adventure,Comedy   \n",
            "772  Animation,Action,Adventure   \n",
            "\n",
            "                                           Description           Director  \\\n",
            "0    A group of intergalactic criminals are forced ...         James Gunn   \n",
            "6    A jazz pianist falls for an aspiring actress i...    Damien Chazelle   \n",
            "36   A team of explorers travel through a wormhole ...  Christopher Nolan   \n",
            "50   Three decades after the defeat of the Galactic...        J.J. Abrams   \n",
            "54   When the menace known as the Joker wreaks havo...  Christopher Nolan   \n",
            "67   A woman rebels against a tyrannical ruler in p...      George Miller   \n",
            "74   In a city of anthropomorphic animals, a rookie...       Byron Howard   \n",
            "76   Earth's mightiest heroes must come together an...        Joss Whedon   \n",
            "77   In Nazi-occupied France during World War II, a...  Quentin Tarantino   \n",
            "80   A thief, who steals corporate secrets through ...  Christopher Nolan   \n",
            "82   Based on the true story of Jordan Belfort, fro...    Martin Scorsese   \n",
            "83   With his wife's disappearance having become th...      David Fincher   \n",
            "92   An aspiring author during the civil rights mov...        Tate Taylor   \n",
            "99   An undercover cop and a mole in the police att...    Martin Scorsese   \n",
            "114  Harry, Ron and Hermione search for Voldemort's...        David Yates   \n",
            "124  Eight years after the Joker's reign of anarchy...  Christopher Nolan   \n",
            "138  In 1954, a U.S. marshal investigates the disap...    Martin Scorsese   \n",
            "144  With the help of a German bounty hunter , a fr...  Quentin Tarantino   \n",
            "241  After young Riley is uprooted from her Midwest...        Pete Docter   \n",
            "427  Jason Bourne dodges a ruthless CIA official an...    Paul Greengrass   \n",
            "499  Seventy-eight year old Carl Fredricksen travel...        Pete Docter   \n",
            "634  In the distant future, a small waste-collectin...     Andrew Stanton   \n",
            "645  Disgruntled Korean War veteran Walt Kowalski s...     Clint Eastwood   \n",
            "688  The toys are mistakenly delivered to a day-car...        Lee Unkrich   \n",
            "772  A hapless young Viking who aspires to hunt dra...       Dean DeBlois   \n",
            "\n",
            "                                                Actors  Year  \\\n",
            "0    Chris Pratt, Vin Diesel, Bradley Cooper, Zoe S...  2014   \n",
            "6    Ryan Gosling, Emma Stone, Rosemarie DeWitt, J....  2016   \n",
            "36   Matthew McConaughey, Anne Hathaway, Jessica Ch...  2014   \n",
            "50   Daisy Ridley, John Boyega, Oscar Isaac, Domhna...  2015   \n",
            "54   Christian Bale, Heath Ledger, Aaron Eckhart,Mi...  2008   \n",
            "67   Tom Hardy, Charlize Theron, Nicholas Hoult, Zo...  2015   \n",
            "74   Ginnifer Goodwin, Jason Bateman, Idris Elba, J...  2016   \n",
            "76   Robert Downey Jr., Chris Evans, Scarlett Johan...  2012   \n",
            "77   Brad Pitt, Diane Kruger, Eli Roth,Mélanie Laurent  2009   \n",
            "80   Leonardo DiCaprio, Joseph Gordon-Levitt, Ellen...  2010   \n",
            "82   Leonardo DiCaprio, Jonah Hill, Margot Robbie,M...  2013   \n",
            "83   Ben Affleck, Rosamund Pike, Neil Patrick Harri...  2014   \n",
            "92   Emma Stone, Viola Davis, Octavia Spencer, Bryc...  2011   \n",
            "99   Leonardo DiCaprio, Matt Damon, Jack Nicholson,...  2006   \n",
            "114  Daniel Radcliffe, Emma Watson, Rupert Grint, M...  2011   \n",
            "124  Christian Bale, Tom Hardy, Anne Hathaway,Gary ...  2012   \n",
            "138  Leonardo DiCaprio, Emily Mortimer, Mark Ruffal...  2010   \n",
            "144  Jamie Foxx, Christoph Waltz, Leonardo DiCaprio...  2012   \n",
            "241  Amy Poehler, Bill Hader, Lewis Black, Mindy Ka...  2015   \n",
            "427  Matt Damon, Edgar Ramírez, Joan Allen, Julia S...  2007   \n",
            "499  Edward Asner, Jordan Nagai, John Ratzenberger,...  2009   \n",
            "634  Ben Burtt, Elissa Knight, Jeff Garlin, Fred Wi...  2008   \n",
            "645  Clint Eastwood, Bee Vang, Christopher Carley,A...  2008   \n",
            "688      Tom Hanks, Tim Allen, Joan Cusack, Ned Beatty  2010   \n",
            "772  Jay Baruchel, Gerard Butler,Christopher Mintz-...  2010   \n",
            "\n",
            "     Runtime (Minutes)  Rating    Votes  Revenue (Millions)  Metascore  \\\n",
            "0                  121     8.1   757074              333.13  76.000000   \n",
            "6                  128     8.3   258682              151.06  93.000000   \n",
            "36                 169     8.6  1047747              187.99  74.000000   \n",
            "50                 136     8.1   661608              936.63  81.000000   \n",
            "54                 152     9.0  1791916              533.32  82.000000   \n",
            "67                 120     8.1   632842              153.63  90.000000   \n",
            "74                 108     8.1   296853              341.26  78.000000   \n",
            "76                 143     8.1  1045588              623.28  69.000000   \n",
            "77                 153     8.3   959065              120.52  69.000000   \n",
            "80                 148     8.8  1583625              292.57  74.000000   \n",
            "82                 180     8.2   865134              116.87  75.000000   \n",
            "83                 149     8.1   636243              167.74  79.000000   \n",
            "92                 146     8.1   342429              169.71  62.000000   \n",
            "99                 151     8.5   937414              132.37  85.000000   \n",
            "114                130     8.1   590595              380.96  87.000000   \n",
            "124                164     8.5  1222645              448.13  78.000000   \n",
            "138                138     8.1   855604              127.97  63.000000   \n",
            "144                165     8.4  1039115              162.80  81.000000   \n",
            "241                 95     8.2   416689              356.45  94.000000   \n",
            "427                115     8.1   525700              227.14  85.000000   \n",
            "499                 96     8.3   722203              292.98  88.000000   \n",
            "634                 98     8.4   776897              223.81  58.985043   \n",
            "645                116     8.2   595779              148.09  58.985043   \n",
            "688                103     8.3   586669              414.98  92.000000   \n",
            "772                 98     8.1   523893              217.39  74.000000   \n",
            "\n",
            "     Num_Genres  \n",
            "0             3  \n",
            "6             3  \n",
            "36            3  \n",
            "50            3  \n",
            "54            3  \n",
            "67            3  \n",
            "74            3  \n",
            "76            2  \n",
            "77            3  \n",
            "80            3  \n",
            "82            3  \n",
            "83            3  \n",
            "92            1  \n",
            "99            3  \n",
            "114           3  \n",
            "124           2  \n",
            "138           2  \n",
            "144           2  \n",
            "241           3  \n",
            "427           3  \n",
            "499           3  \n",
            "634           3  \n",
            "645           1  \n",
            "688           3  \n",
            "772           3  \n"
          ]
        }
      ]
    },
    {
      "cell_type": "markdown",
      "source": [
        "14)Group by Director: avg Rating, Revenue"
      ],
      "metadata": {
        "id": "WbP2ohI-_66-"
      }
    },
    {
      "cell_type": "code",
      "source": [
        " director_group = df.groupby('Director').agg({'Rating':'mean','Revenue (Millions)': 'mean'}).reset_index()\n",
        " print(director_group)"
      ],
      "metadata": {
        "colab": {
          "base_uri": "https://localhost:8080/"
        },
        "id": "q5a9-k6H11Xf",
        "outputId": "d18524a0-79e7-4ead-ee7e-770541f5aafe"
      },
      "execution_count": null,
      "outputs": [
        {
          "output_type": "stream",
          "name": "stdout",
          "text": [
            "                Director  Rating  Revenue (Millions)\n",
            "0             Aamir Khan    8.50            1.200000\n",
            "1    Abdellatif Kechiche    7.80            2.200000\n",
            "2              Adam Leon    6.50           82.956376\n",
            "3             Adam McKay    7.00          109.535000\n",
            "4          Adam Shankman    6.30           78.665000\n",
            "..                   ...     ...                 ...\n",
            "639         Xavier Dolan    7.55           43.223188\n",
            "640          Yimou Zhang    6.10           45.130000\n",
            "641     Yorgos Lanthimos    7.20            4.405000\n",
            "642          Zack Snyder    7.04          195.148000\n",
            "643        Zackary Adler    5.10            6.530000\n",
            "\n",
            "[644 rows x 3 columns]\n"
          ]
        }
      ]
    },
    {
      "cell_type": "markdown",
      "source": [
        "15)Group by Year: count, avg Rating"
      ],
      "metadata": {
        "id": "3NZ__zj3_85E"
      }
    },
    {
      "cell_type": "code",
      "source": [
        "year_group = da.groupby('Year').agg({'Movie_Title':'count','Rating':'mean'}).reset_index()\n",
        "year_group = year_group.rename(columns={'Movie_Title':'count'})\n",
        "print(year_group)"
      ],
      "metadata": {
        "colab": {
          "base_uri": "https://localhost:8080/"
        },
        "id": "5SoLbaOI5jb9",
        "outputId": "7fe37c49-86e3-469e-f0b9-3ca7f1127303"
      },
      "execution_count": null,
      "outputs": [
        {
          "output_type": "stream",
          "name": "stdout",
          "text": [
            "    Year  count    Rating\n",
            "0   2006     44  7.125000\n",
            "1   2007     53  7.133962\n",
            "2   2008     52  6.784615\n",
            "3   2009     51  6.960784\n",
            "4   2010     60  6.826667\n",
            "5   2011     63  6.838095\n",
            "6   2012     64  6.925000\n",
            "7   2013     91  6.812088\n",
            "8   2014     98  6.837755\n",
            "9   2015    127  6.602362\n",
            "10  2016    297  6.436700\n"
          ]
        }
      ]
    },
    {
      "cell_type": "markdown",
      "source": [
        "16)Create a new column Profitability:\n",
        "a) Revenue divided by Duration\n",
        "b) Find top 10 most profitable movies"
      ],
      "metadata": {
        "id": "ef0SiIIh__BE"
      }
    },
    {
      "cell_type": "code",
      "source": [
        "df['Profitability'] = df['Revenue (Millions)'] / df['Runtime (Minutes)']\n",
        "top10_profitable = df.nlargest(10, 'Profitability')\n",
        "print(top10_profitable[['Title', 'Profitability']])"
      ],
      "metadata": {
        "colab": {
          "base_uri": "https://localhost:8080/"
        },
        "id": "tV9xwv3Y6fEB",
        "outputId": "17252ff3-a584-46bf-aa14-eff4521880e8"
      },
      "execution_count": null,
      "outputs": [
        {
          "output_type": "stream",
          "name": "stdout",
          "text": [
            "                                          Title  Profitability\n",
            "50   Star Wars: Episode VII - The Force Awakens       6.886985\n",
            "85                               Jurassic World       5.259516\n",
            "119                                Finding Dory       5.013299\n",
            "87                                       Avatar       4.694506\n",
            "76                                 The Avengers       4.358601\n",
            "15                      The Secret Life of Pets       4.233448\n",
            "688                                 Toy Story 3       4.028932\n",
            "12                                    Rogue One       4.001278\n",
            "174                                      Frozen       3.928824\n",
            "797                             Despicable Me 2       3.755612\n"
          ]
        }
      ]
    },
    {
      "cell_type": "markdown",
      "source": [
        "17) Create a column that categorizes movies by rating:\n",
        "a) Rating < 6: Poor\n",
        "b) 6 ≤ Rating < 7.5: Average\n",
        "c) Rating ≥ 7.5: Excellent"
      ],
      "metadata": {
        "id": "Ojm0JvU5ACs8"
      }
    },
    {
      "cell_type": "code",
      "source": [
        "def categorize_rating(rating):\n",
        "    if rating < 6:\n",
        "        return 'Poor'\n",
        "    elif rating < 7.5:\n",
        "        return 'Average'\n",
        "    else:\n",
        "        return 'Excellent'\n",
        "\n",
        "da['Rating_Category'] = da['Rating'].apply(categorize_rating)\n",
        "print(da[['Movie_Title', 'Rating', 'Rating_Category']].head())"
      ],
      "metadata": {
        "colab": {
          "base_uri": "https://localhost:8080/"
        },
        "id": "C5JEXK336tBN",
        "outputId": "6fc999b4-5a07-488e-a992-0eb4f83fe1a5"
      },
      "execution_count": null,
      "outputs": [
        {
          "output_type": "stream",
          "name": "stdout",
          "text": [
            "               Movie_Title  Rating Rating_Category\n",
            "0  Guardians of the Galaxy     8.1       Excellent\n",
            "1               Prometheus     7.0         Average\n",
            "2                    Split     7.3         Average\n",
            "3                     Sing     7.2         Average\n",
            "4            Suicide Squad     6.2         Average\n"
          ]
        }
      ]
    },
    {
      "cell_type": "markdown",
      "source": [
        "18)Create a custom function to score movies based on:\n",
        "i)\n",
        "Apply row['Rating'] * 10 + row['Revenue (Millions)'] as High score\n",
        "Apply a function to dataset to assign the score"
      ],
      "metadata": {
        "id": "1qtoGhs2AEu1"
      }
    },
    {
      "cell_type": "code",
      "source": [
        " def score_movie(row):\n",
        "    return row['Rating'] * 10 + row['Revenue (Millions)']\n",
        "\n",
        "da['Score'] = da.apply(score_movie, axis=1)\n",
        "print(da[['Movie_Title', 'Score']].head())"
      ],
      "metadata": {
        "colab": {
          "base_uri": "https://localhost:8080/"
        },
        "id": "k_RbZsv_-1AU",
        "outputId": "a8fa768e-30bd-4776-a211-cba9d3b9f330"
      },
      "execution_count": null,
      "outputs": [
        {
          "output_type": "stream",
          "name": "stdout",
          "text": [
            "               Movie_Title   Score\n",
            "0  Guardians of the Galaxy  414.13\n",
            "1               Prometheus  196.46\n",
            "2                    Split  211.12\n",
            "3                     Sing  342.32\n",
            "4            Suicide Squad  387.02\n"
          ]
        }
      ]
    },
    {
      "cell_type": "code",
      "source": [],
      "metadata": {
        "id": "OxXpa4ML_JGz"
      },
      "execution_count": null,
      "outputs": []
    }
  ]
}
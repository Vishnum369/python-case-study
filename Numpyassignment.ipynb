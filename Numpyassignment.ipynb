{
  "nbformat": 4,
  "nbformat_minor": 0,
  "metadata": {
    "colab": {
      "provenance": [],
      "authorship_tag": "ABX9TyN4UES75yTrd+DJOr90dO7x",
      "include_colab_link": true
    },
    "kernelspec": {
      "name": "python3",
      "display_name": "Python 3"
    },
    "language_info": {
      "name": "python"
    }
  },
  "cells": [
    {
      "cell_type": "markdown",
      "metadata": {
        "id": "view-in-github",
        "colab_type": "text"
      },
      "source": [
        "<a href=\"https://colab.research.google.com/github/Vishnum369/python-case-study/blob/main/Numpyassignment.ipynb\" target=\"_parent\"><img src=\"https://colab.research.google.com/assets/colab-badge.svg\" alt=\"Open In Colab\"/></a>"
      ]
    },
    {
      "cell_type": "markdown",
      "source": [
        "1)"
      ],
      "metadata": {
        "id": "2F7WczJJkadj"
      }
    },
    {
      "cell_type": "code",
      "execution_count": null,
      "metadata": {
        "id": "qtAZRWVxg-Sk",
        "colab": {
          "base_uri": "https://localhost:8080/"
        },
        "outputId": "922ac87f-bf91-4af6-dd38-6c414874b413"
      },
      "outputs": [
        {
          "output_type": "stream",
          "name": "stdout",
          "text": [
            "Reshaped matrix:\n",
            " [[10 11 12 13 14 15 16 17 18 19]\n",
            " [20 21 22 23 24 25 26 27 28 29]\n",
            " [30 31 32 33 34 35 36 37 38 39]\n",
            " [40 41 42 43 44 45 46 47 48 49]]\n",
            "Last column:\n",
            " [19 29 39 49]\n"
          ]
        }
      ],
      "source": [
        "import numpy as np\n",
        "\n",
        "arr = np.arange(10, 50)\n",
        "reshaped_arr = arr.reshape((4, 10))\n",
        "last_column = reshaped_arr[:, -1]\n",
        "print(\"Reshaped matrix:\\n\", reshaped_arr)\n",
        "print(\"Last column:\\n\", last_column)"
      ]
    },
    {
      "cell_type": "markdown",
      "source": [
        "2)"
      ],
      "metadata": {
        "id": "lLoChtjLkgVB"
      }
    },
    {
      "cell_type": "code",
      "source": [
        "import numpy as np\n",
        "matrix_5s = np.full((3, 3), 5)\n",
        "matrix_1to9 = np.arange(1, 10).reshape((3, 3))\n",
        "sum_matrix = matrix_5s + matrix_1to9\n",
        "elementwise_product = matrix_5s * matrix_1to9\n",
        "transpose_result = elementwise_product.T\n",
        "\n",
        "print(\"Matrix of 5s:\\n\", matrix_5s)\n",
        "print(\"Matrix from 1 to 9:\\n\", matrix_1to9)\n",
        "print(\"Sum of matrices:\\n\", sum_matrix)\n",
        "print(\"Element-wise product:\\n\", elementwise_product)\n",
        "print(\"Transpose of the product:\\n\", transpose_result)"
      ],
      "metadata": {
        "colab": {
          "base_uri": "https://localhost:8080/"
        },
        "id": "O2CU-iXRkhzK",
        "outputId": "0749fa10-a630-4da0-ecd4-d3ab03beeb5c"
      },
      "execution_count": null,
      "outputs": [
        {
          "output_type": "stream",
          "name": "stdout",
          "text": [
            "Matrix of 5s:\n",
            " [[5 5 5]\n",
            " [5 5 5]\n",
            " [5 5 5]]\n",
            "Matrix from 1 to 9:\n",
            " [[1 2 3]\n",
            " [4 5 6]\n",
            " [7 8 9]]\n",
            "Sum of matrices:\n",
            " [[ 6  7  8]\n",
            " [ 9 10 11]\n",
            " [12 13 14]]\n",
            "Element-wise product:\n",
            " [[ 5 10 15]\n",
            " [20 25 30]\n",
            " [35 40 45]]\n",
            "Transpose of the product:\n",
            " [[ 5 20 35]\n",
            " [10 25 40]\n",
            " [15 30 45]]\n"
          ]
        }
      ]
    },
    {
      "cell_type": "markdown",
      "source": [
        "3)"
      ],
      "metadata": {
        "id": "3oRdOhdulSai"
      }
    },
    {
      "cell_type": "code",
      "source": [
        "import numpy as np\n",
        "arr = np.random.randint(10, 101, size=15)\n",
        "print(\"Original array:\\n\", arr)\n",
        "replaced_count = np.sum(arr > 50)\n",
        "arr[arr > 50] = -1\n",
        "print(\"\\nModified array:\\n\", arr)\n",
        "print(\"\\nNumber of values replaced:\", replaced_count)\n"
      ],
      "metadata": {
        "colab": {
          "base_uri": "https://localhost:8080/"
        },
        "id": "NhHcLfjvlUiw",
        "outputId": "fde8fe78-30b2-4595-a015-6059cc05ed54"
      },
      "execution_count": null,
      "outputs": [
        {
          "output_type": "stream",
          "name": "stdout",
          "text": [
            "Original array:\n",
            " [28 14 99 99 47 87 19 76 79 93 44 47 17 13 91]\n",
            "\n",
            "Modified array:\n",
            " [28 14 -1 -1 47 -1 19 -1 -1 -1 44 47 17 13 -1]\n",
            "\n",
            "Number of values replaced: 7\n"
          ]
        }
      ]
    },
    {
      "cell_type": "markdown",
      "source": [
        "4)"
      ],
      "metadata": {
        "id": "hlQ6e9_5oiVi"
      }
    },
    {
      "cell_type": "code",
      "source": [
        "import numpy as np\n",
        "\n",
        "arr = np.random.rand(5, 4)\n",
        "print(\"Original array:\\n\", arr)\n",
        "\n",
        "row_sums = np.sum(arr, axis=1)\n",
        "max_row_index = np.argmax(row_sums)\n",
        "print(\"\\nRow with maximum sum (index {}):\\n{}\".format(max_row_index, arr[max_row_index]))\n",
        "\n",
        "row_min = arr.min(axis=1, keepdims=True)\n",
        "row_max = arr.max(axis=1, keepdims=True)\n",
        "normalized_arr = (arr - row_min) / (row_max - row_min)\n",
        "\n",
        "print(\"\\nNormalized array:\\n\", normalized_arr)\n"
      ],
      "metadata": {
        "colab": {
          "base_uri": "https://localhost:8080/"
        },
        "id": "4lpeHSTqn71u",
        "outputId": "fd8b116f-7d2f-4190-f27d-cb7c82aceaba"
      },
      "execution_count": null,
      "outputs": [
        {
          "output_type": "stream",
          "name": "stdout",
          "text": [
            "Original array:\n",
            " [[0.27035353 0.89933167 0.24898772 0.14004714]\n",
            " [0.47137357 0.74069826 0.21828567 0.64557257]\n",
            " [0.78269171 0.20214117 0.55083017 0.64879947]\n",
            " [0.27621936 0.97517165 0.67565137 0.18139089]\n",
            " [0.91621879 0.94899469 0.25626485 0.18979567]]\n",
            "\n",
            "Row with maximum sum (index 4):\n",
            "[0.91621879 0.94899469 0.25626485 0.18979567]\n",
            "\n",
            "Normalized array:\n",
            " [[0.17161734 1.         0.14347795 0.        ]\n",
            " [0.4844598  1.         0.         0.81791081]\n",
            " [1.         0.         0.60061781 0.76937022]\n",
            " [0.1194643  1.         0.62266623 0.        ]\n",
            " [0.95682832 1.         0.08755172 0.        ]]\n"
          ]
        }
      ]
    },
    {
      "cell_type": "markdown",
      "source": [
        "5)"
      ],
      "metadata": {
        "id": "oE7xWNtRpVUu"
      }
    },
    {
      "cell_type": "code",
      "source": [
        "import numpy as np\n",
        "\n",
        "arr = np.array([1, 3, 5, 3, 7, 9, 1, 5, 5])\n",
        "unique_elements = np.unique(arr)\n",
        "duplicates = np.array([item for item in unique_elements if np.count_nonzero(arr == item) > 1])\n",
        "print(\"Unique elements:\\n\", unique_elements)\n",
        "print(\"Duplicates:\\n\", duplicates)"
      ],
      "metadata": {
        "colab": {
          "base_uri": "https://localhost:8080/"
        },
        "id": "1gksRmXqosc3",
        "outputId": "698383d0-ee42-4d88-91bc-12a12e197df0"
      },
      "execution_count": null,
      "outputs": [
        {
          "output_type": "stream",
          "name": "stdout",
          "text": [
            "Unique elements:\n",
            " [1 3 5 7 9]\n",
            "Duplicates:\n",
            " [1 3 5]\n"
          ]
        }
      ]
    },
    {
      "cell_type": "markdown",
      "source": [
        "6)"
      ],
      "metadata": {
        "id": "-fvNmXjqpdTc"
      }
    },
    {
      "cell_type": "code",
      "source": [
        "import numpy as np\n",
        "array_6x6 = np.arange(1, 37).reshape(6, 6)\n",
        "\n",
        "submatrix_4x4 = array_6x6[1:5, 1:5]\n",
        "\n",
        "even_numbers = submatrix_4x4[submatrix_4x4 % 2 == 0]\n",
        "\n",
        "print(\"6×6 array:\")\n",
        "print(array_6x6)\n",
        "\n",
        "print(\"\\nMiddle 4×4 submatrix:\")\n",
        "print(submatrix_4x4)\n",
        "\n",
        "print(\"\\nEven numbers from the submatrix:\")\n",
        "print(even_numbers)\n"
      ],
      "metadata": {
        "colab": {
          "base_uri": "https://localhost:8080/"
        },
        "id": "CjvPglrSpekD",
        "outputId": "385f2fb7-0cee-4d14-fb32-de4901b9afd6"
      },
      "execution_count": null,
      "outputs": [
        {
          "output_type": "stream",
          "name": "stdout",
          "text": [
            "6×6 array:\n",
            "[[ 1  2  3  4  5  6]\n",
            " [ 7  8  9 10 11 12]\n",
            " [13 14 15 16 17 18]\n",
            " [19 20 21 22 23 24]\n",
            " [25 26 27 28 29 30]\n",
            " [31 32 33 34 35 36]]\n",
            "\n",
            "Middle 4×4 submatrix:\n",
            "[[ 8  9 10 11]\n",
            " [14 15 16 17]\n",
            " [20 21 22 23]\n",
            " [26 27 28 29]]\n",
            "\n",
            "Even numbers from the submatrix:\n",
            "[ 8 10 14 16 20 22 26 28]\n"
          ]
        }
      ]
    },
    {
      "cell_type": "markdown",
      "source": [
        "7)"
      ],
      "metadata": {
        "id": "jVf0R4Cyq6t6"
      }
    },
    {
      "cell_type": "code",
      "source": [
        "import numpy as np\n",
        "array_3x4 = np.arange(12).reshape(3, 4)\n",
        "\n",
        "array_2x6 = array_3x4.reshape(2, 6)\n",
        "\n",
        "array_flat = array_2x6.flatten()\n",
        "\n",
        "array_4x3 = array_flat.reshape(4, 3)\n",
        "\n",
        "print(\"Original (3, 4) array:\\n\", array_3x4)\n",
        "print(\"\\nReshaped to (2, 6):\\n\", array_2x6)\n",
        "print(\"\\nFlattened 1D array:\\n\", array_flat)\n",
        "print(\"\\nReshaped back to (4, 3):\\n\", array_4x3)\n"
      ],
      "metadata": {
        "colab": {
          "base_uri": "https://localhost:8080/"
        },
        "id": "7WhCY2QJq6Yz",
        "outputId": "53751c79-deaa-4b45-962e-bdf1584ca581"
      },
      "execution_count": null,
      "outputs": [
        {
          "output_type": "stream",
          "name": "stdout",
          "text": [
            "Original (3, 4) array:\n",
            " [[ 0  1  2  3]\n",
            " [ 4  5  6  7]\n",
            " [ 8  9 10 11]]\n",
            "\n",
            "Reshaped to (2, 6):\n",
            " [[ 0  1  2  3  4  5]\n",
            " [ 6  7  8  9 10 11]]\n",
            "\n",
            "Flattened 1D array:\n",
            " [ 0  1  2  3  4  5  6  7  8  9 10 11]\n",
            "\n",
            "Reshaped back to (4, 3):\n",
            " [[ 0  1  2]\n",
            " [ 3  4  5]\n",
            " [ 6  7  8]\n",
            " [ 9 10 11]]\n"
          ]
        }
      ]
    },
    {
      "cell_type": "markdown",
      "source": [
        "8)"
      ],
      "metadata": {
        "id": "j_IFEc8TrF7b"
      }
    },
    {
      "cell_type": "code",
      "source": [
        "import numpy as np\n",
        "\n",
        "a = np.array([[1, 2],\n",
        "              [3, 4]])\n",
        "a_with_row = np.append(a, [[5, 6]], axis=0)\n",
        "\n",
        "new_column = np.array([7, 8, 9]).reshape(-1, 1)\n",
        "a_with_row_and_col = np.append(a_with_row, new_column, axis=1)\n",
        "\n",
        "print(\"Original array:\\n\", a)\n",
        "print(\"\\nAfter appending row [5, 6]:\\n\", a_with_row)\n",
        "print(\"\\nAfter appending column [7, 8, 9]:\\n\", a_with_row_and_col)\n"
      ],
      "metadata": {
        "colab": {
          "base_uri": "https://localhost:8080/"
        },
        "id": "kaEJvqx1rHIa",
        "outputId": "d9f4f919-6ca5-41c9-f801-5471013f0fb6"
      },
      "execution_count": null,
      "outputs": [
        {
          "output_type": "stream",
          "name": "stdout",
          "text": [
            "Original array:\n",
            " [[1 2]\n",
            " [3 4]]\n",
            "\n",
            "After appending row [5, 6]:\n",
            " [[1 2]\n",
            " [3 4]\n",
            " [5 6]]\n",
            "\n",
            "After appending column [7, 8, 9]:\n",
            " [[1 2 7]\n",
            " [3 4 8]\n",
            " [5 6 9]]\n"
          ]
        }
      ]
    },
    {
      "cell_type": "markdown",
      "source": [
        "9)"
      ],
      "metadata": {
        "id": "uYHImMvUroAK"
      }
    },
    {
      "cell_type": "code",
      "source": [
        "import numpy as np\n",
        "\n",
        "a = np.array([1, 2, 3])\n",
        "b = np.array([4, 5, 6])\n",
        "c = np.array([7, 8, 9])\n",
        "\n",
        "joined = np.concatenate((a, b, c))\n",
        "matrix_3x3 = joined.reshape(3, 3)\n",
        "diagonal = np.diag(matrix_3x3)\n",
        "\n",
        "print(\"Joined array:\\n\", joined)\n",
        "print(\"\\nReshaped 3×3 matrix:\\n\", matrix_3x3)\n",
        "print(\"\\nDiagonal elements:\\n\", diagonal)\n"
      ],
      "metadata": {
        "colab": {
          "base_uri": "https://localhost:8080/"
        },
        "id": "mal8cQmMrpEb",
        "outputId": "fd9e7c2e-56e7-4b7d-d584-b1dcdacabf63"
      },
      "execution_count": null,
      "outputs": [
        {
          "output_type": "stream",
          "name": "stdout",
          "text": [
            "Joined array:\n",
            " [1 2 3 4 5 6 7 8 9]\n",
            "\n",
            "Reshaped 3×3 matrix:\n",
            " [[1 2 3]\n",
            " [4 5 6]\n",
            " [7 8 9]]\n",
            "\n",
            "Diagonal elements:\n",
            " [1 5 9]\n"
          ]
        }
      ]
    },
    {
      "cell_type": "markdown",
      "source": [
        "10)"
      ],
      "metadata": {
        "id": "2CvM8ncLry3J"
      }
    },
    {
      "cell_type": "code",
      "source": [
        "import numpy as np\n",
        "arr = np.arange(1, 21)\n",
        "div_by_3_or_5 = arr[(arr % 3 == 0) | (arr % 5 == 0)]\n",
        "\n",
        "count = div_by_3_or_5.size\n",
        "\n",
        "print(\"Original array:\\n\", arr)\n",
        "print(\"\\nValues divisible by 3 or 5:\\n\", div_by_3_or_5)\n",
        "print(\"\\nCount of such values:\", count)\n"
      ],
      "metadata": {
        "colab": {
          "base_uri": "https://localhost:8080/"
        },
        "id": "5nIjGwDgrz0h",
        "outputId": "95d554c1-8d23-459c-ae41-1373bfa60e5d"
      },
      "execution_count": null,
      "outputs": [
        {
          "output_type": "stream",
          "name": "stdout",
          "text": [
            "Original array:\n",
            " [ 1  2  3  4  5  6  7  8  9 10 11 12 13 14 15 16 17 18 19 20]\n",
            "\n",
            "Values divisible by 3 or 5:\n",
            " [ 3  5  6  9 10 12 15 18 20]\n",
            "\n",
            "Count of such values: 9\n"
          ]
        }
      ]
    },
    {
      "cell_type": "code",
      "source": [],
      "metadata": {
        "id": "oa9oHS19sDG_"
      },
      "execution_count": null,
      "outputs": []
    }
  ]
}
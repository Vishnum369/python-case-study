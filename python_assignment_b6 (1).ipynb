{
  "cells": [
    {
      "cell_type": "markdown",
      "id": "d2328cad",
      "metadata": {
        "id": "d2328cad"
      },
      "source": [
        "# Python Basics Assignment"
      ]
    },
    {
      "cell_type": "markdown",
      "id": "cb537954",
      "metadata": {
        "id": "cb537954"
      },
      "source": [
        "### Question 1\n",
        "Write a function to compute number of vowels in a string given as input"
      ]
    },
    {
      "cell_type": "code",
      "execution_count": 7,
      "id": "cf213ba2",
      "metadata": {
        "colab": {
          "base_uri": "https://localhost:8080/"
        },
        "id": "cf213ba2",
        "outputId": "798534e9-bfcc-4ebc-f113-c2f8d4691552"
      },
      "outputs": [
        {
          "output_type": "stream",
          "name": "stdout",
          "text": [
            "3\n"
          ]
        }
      ],
      "source": [
        "def your_function_1(string):\n",
        "    vowels=\"aeiouAEIOU\"\n",
        "    count=0\n",
        "    for char in string:\n",
        "      if char in vowels:\n",
        "        count+=1\n",
        "    return count\n",
        "text = \"hello world\"\n",
        "print(your_function_1(text))"
      ]
    },
    {
      "cell_type": "markdown",
      "id": "4eaff430",
      "metadata": {
        "id": "4eaff430"
      },
      "source": [
        "### Question 2\n",
        "Write a function that checks whether a number is prime."
      ]
    },
    {
      "cell_type": "code",
      "execution_count": 10,
      "id": "81934cf7",
      "metadata": {
        "colab": {
          "base_uri": "https://localhost:8080/"
        },
        "id": "81934cf7",
        "outputId": "6b24c033-728a-42da-a7de-df9fef9acb78"
      },
      "outputs": [
        {
          "output_type": "stream",
          "name": "stdout",
          "text": [
            "True\n",
            "False\n"
          ]
        }
      ],
      "source": [
        "def your_function_2(number):\n",
        "  if number<=1:\n",
        "   return False\n",
        "  for i in range(2,number):\n",
        "    if number%i==0:\n",
        "      return False\n",
        "  return True\n",
        "print(your_function_2(7))\n",
        "print(your_function_2(10))"
      ]
    },
    {
      "cell_type": "markdown",
      "id": "5f061e50",
      "metadata": {
        "id": "5f061e50"
      },
      "source": [
        "### Question 3\n",
        "Write a function to return the maximum of two numbers."
      ]
    },
    {
      "cell_type": "code",
      "execution_count": 12,
      "id": "44e2a596",
      "metadata": {
        "colab": {
          "base_uri": "https://localhost:8080/"
        },
        "id": "44e2a596",
        "outputId": "cb3db8d1-fe18-4eef-a4c4-38999216e499"
      },
      "outputs": [
        {
          "output_type": "stream",
          "name": "stdout",
          "text": [
            "20\n",
            "15\n"
          ]
        }
      ],
      "source": [
        "def max_of_two(a,b):\n",
        "  if a>b:\n",
        "    return a\n",
        "  else:\n",
        "    return b\n",
        "print(max_of_two(10,20))\n",
        "print(max_of_two(15,10))"
      ]
    },
    {
      "cell_type": "markdown",
      "id": "7513ca91",
      "metadata": {
        "id": "7513ca91"
      },
      "source": [
        "### Question 4\n",
        "Write a function to return the factorial of a number."
      ]
    },
    {
      "cell_type": "code",
      "execution_count": 13,
      "id": "6617842f",
      "metadata": {
        "colab": {
          "base_uri": "https://localhost:8080/"
        },
        "id": "6617842f",
        "outputId": "bb7c18e6-f34a-4d77-ace8-b04a42bacb3a"
      },
      "outputs": [
        {
          "output_type": "stream",
          "name": "stdout",
          "text": [
            "120\n",
            "1\n"
          ]
        }
      ],
      "source": [
        "def factorial(n):\n",
        "  if n==0:\n",
        "    return 1\n",
        "  else:\n",
        "    result=1\n",
        "    for i in range(1,n+1):\n",
        "      result*=i\n",
        "    return result\n",
        "\n",
        "print(factorial(5))\n",
        "print(factorial(0))\n",
        ""
      ]
    },
    {
      "cell_type": "markdown",
      "id": "9b942098",
      "metadata": {
        "id": "9b942098"
      },
      "source": [
        "### Question 5\n",
        "Write a function to reverse a string without string indexing."
      ]
    },
    {
      "cell_type": "code",
      "execution_count": 14,
      "id": "d606b194",
      "metadata": {
        "colab": {
          "base_uri": "https://localhost:8080/"
        },
        "id": "d606b194",
        "outputId": "9dd25149-c96f-49cf-e132-8c0f65b57e88"
      },
      "outputs": [
        {
          "output_type": "stream",
          "name": "stdout",
          "text": [
            "olleh\n",
            "dlrow\n"
          ]
        }
      ],
      "source": [
        "def reverse_string(input_string):\n",
        "  reversed_string=''\n",
        "  for i in range(len(input_string)-1,-1,-1):\n",
        "    reversed_string+=input_string[i]\n",
        "  return reversed_string\n",
        "print(reverse_string(\"hello\"))\n",
        "print(reverse_string(\"world\"))\n"
      ]
    },
    {
      "cell_type": "markdown",
      "id": "1abd915b",
      "metadata": {
        "id": "1abd915b"
      },
      "source": [
        "### Question 6\n",
        "Write a function to check if a string is a palindrome."
      ]
    },
    {
      "cell_type": "code",
      "execution_count": 15,
      "id": "2b868fb3",
      "metadata": {
        "colab": {
          "base_uri": "https://localhost:8080/"
        },
        "id": "2b868fb3",
        "outputId": "9d848eee-b724-423b-d8d2-55058914f41b"
      },
      "outputs": [
        {
          "output_type": "stream",
          "name": "stdout",
          "text": [
            "True\n"
          ]
        }
      ],
      "source": [
        "def is_palindrome(input_string):\n",
        "  reversed_string=reverse_string(input_string)\n",
        "  if input_string==reversed_string:\n",
        "    return True\n",
        "  else:\n",
        "    return False\n",
        "print(is_palindrome(\"madam\"))"
      ]
    },
    {
      "cell_type": "markdown",
      "id": "5f2f3791",
      "metadata": {
        "id": "5f2f3791"
      },
      "source": [
        "### Question 7\n",
        "Write a function to count vowels in a string."
      ]
    },
    {
      "cell_type": "code",
      "execution_count": 16,
      "id": "73fefa50",
      "metadata": {
        "colab": {
          "base_uri": "https://localhost:8080/"
        },
        "id": "73fefa50",
        "outputId": "1179bfa7-a6d0-4187-e71b-4729cc68979f"
      },
      "outputs": [
        {
          "output_type": "stream",
          "name": "stdout",
          "text": [
            "3\n"
          ]
        }
      ],
      "source": [
        "def your_function_1(string):\n",
        "    vowels=\"aeiouAEIOU\"\n",
        "    count=0\n",
        "    for char in string:\n",
        "      if char in vowels:\n",
        "        count+=1\n",
        "    return count\n",
        "text = \"hello world\"\n",
        "print(your_function_1(text))"
      ]
    },
    {
      "cell_type": "markdown",
      "id": "0d3a9996",
      "metadata": {
        "id": "0d3a9996"
      },
      "source": [
        "### Question 8\n",
        "Write a function that returns the sum of a list."
      ]
    },
    {
      "cell_type": "code",
      "execution_count": 17,
      "id": "ab6afc66",
      "metadata": {
        "colab": {
          "base_uri": "https://localhost:8080/"
        },
        "id": "ab6afc66",
        "outputId": "981080d3-92a0-4ed2-8ecc-88c157a6fcd0"
      },
      "outputs": [
        {
          "output_type": "stream",
          "name": "stdout",
          "text": [
            "15\n"
          ]
        }
      ],
      "source": [
        "def sum_of_list(input_list):\n",
        "  sum=0\n",
        "  for num in input_list:\n",
        "    sum+=num\n",
        "  return sum\n",
        "print(sum_of_list([1,2,3,4,5]))"
      ]
    },
    {
      "cell_type": "markdown",
      "id": "f6682500",
      "metadata": {
        "id": "f6682500"
      },
      "source": [
        "### Question 9\n",
        "Write a function to find the smallest number in a list."
      ]
    },
    {
      "cell_type": "code",
      "execution_count": 19,
      "id": "6798a641",
      "metadata": {
        "colab": {
          "base_uri": "https://localhost:8080/"
        },
        "id": "6798a641",
        "outputId": "75b45e93-643a-42df-a38f-51e2994352b3"
      },
      "outputs": [
        {
          "output_type": "stream",
          "name": "stdout",
          "text": [
            "10\n"
          ]
        }
      ],
      "source": [
        "def smallest_number(input_list):\n",
        "  smallest=input_list[0]\n",
        "  for num in input_list:\n",
        "    if num<smallest:\n",
        "      smallest=num\n",
        "  return smallest\n",
        "print(smallest_number([10,20,30,40,50]))"
      ]
    },
    {
      "cell_type": "markdown",
      "id": "fb11e683",
      "metadata": {
        "id": "fb11e683"
      },
      "source": [
        "### Question 10\n",
        "Write a function to remove duplicates from a list."
      ]
    },
    {
      "cell_type": "code",
      "execution_count": 22,
      "id": "7c53f88c",
      "metadata": {
        "colab": {
          "base_uri": "https://localhost:8080/"
        },
        "id": "7c53f88c",
        "outputId": "4cd3b091-c3b5-44e4-f9c2-64ff9a3472f7"
      },
      "outputs": [
        {
          "output_type": "stream",
          "name": "stdout",
          "text": [
            "[1, 2, 3, 4, 5, 6]\n"
          ]
        }
      ],
      "source": [
        "def remove_duplicates(input_list):\n",
        "  unique_list=[]\n",
        "  for num in input_list:\n",
        "    if num not in unique_list:\n",
        "      unique_list.append(num)\n",
        "  return unique_list\n",
        "print(remove_duplicates([1,2,2,3,4,4,5,6,6]))"
      ]
    },
    {
      "cell_type": "markdown",
      "id": "9c380a5c",
      "metadata": {
        "id": "9c380a5c"
      },
      "source": [
        "### Question 11\n",
        "Write a function to sort a list in ascending order without using builtin sort function"
      ]
    },
    {
      "cell_type": "code",
      "execution_count": 23,
      "id": "8e43832f",
      "metadata": {
        "colab": {
          "base_uri": "https://localhost:8080/"
        },
        "id": "8e43832f",
        "outputId": "30dbaf26-7dce-42d2-8e28-6c5c13b30eb3"
      },
      "outputs": [
        {
          "output_type": "stream",
          "name": "stdout",
          "text": [
            "[1, 2, 3, 4, 5]\n"
          ]
        }
      ],
      "source": [
        "def sort_list_ascending(input_list):\n",
        "  n = len(input_list)\n",
        "  for i in range(n):\n",
        "    for j in range(0, n-i-1):\n",
        "      if input_list[j] > input_list[j+1]:\n",
        "        temp = input_list[j]\n",
        "        input_list[j]= input_list[j+1]\n",
        "        input_list[j+1] = temp\n",
        "  return input_list\n",
        "print(sort_list_ascending([5,4,3,2,1]))"
      ]
    },
    {
      "cell_type": "markdown",
      "id": "1270c91c",
      "metadata": {
        "id": "1270c91c"
      },
      "source": [
        "### Question 12\n",
        "Write a function that returns the length of a string."
      ]
    },
    {
      "cell_type": "code",
      "execution_count": 25,
      "id": "87f35472",
      "metadata": {
        "colab": {
          "base_uri": "https://localhost:8080/"
        },
        "id": "87f35472",
        "outputId": "2a9fd729-a89f-44c3-93ed-df57bf3a3b31"
      },
      "outputs": [
        {
          "output_type": "stream",
          "name": "stdout",
          "text": [
            "5\n"
          ]
        }
      ],
      "source": [
        "def length_of_string(input_string):\n",
        "  length=len(input_string)\n",
        "  return length\n",
        "print(length_of_string(\"hello\"))"
      ]
    },
    {
      "cell_type": "markdown",
      "id": "9a8e3d28",
      "metadata": {
        "id": "9a8e3d28"
      },
      "source": [
        "### Question 13\n",
        "Write a function to count words in a sentence."
      ]
    },
    {
      "cell_type": "code",
      "execution_count": 27,
      "id": "e6f996ef",
      "metadata": {
        "colab": {
          "base_uri": "https://localhost:8080/"
        },
        "id": "e6f996ef",
        "outputId": "6df134f9-f530-4d00-ac02-d74a42142f3b"
      },
      "outputs": [
        {
          "output_type": "stream",
          "name": "stdout",
          "text": [
            "2\n"
          ]
        }
      ],
      "source": [
        "def count(input_string):\n",
        "  words=input_string.split()\n",
        "  return len(words)\n",
        "print(count(\"hello world\"))"
      ]
    },
    {
      "cell_type": "markdown",
      "id": "430c2e4a",
      "metadata": {
        "id": "430c2e4a"
      },
      "source": [
        "### Question 14\n",
        "Write a function to convert Celsius to Fahrenheit."
      ]
    },
    {
      "cell_type": "code",
      "execution_count": 29,
      "id": "b710b0bd",
      "metadata": {
        "colab": {
          "base_uri": "https://localhost:8080/"
        },
        "id": "b710b0bd",
        "outputId": "92db0df8-78fa-4a70-9a14-bf03e0569a66"
      },
      "outputs": [
        {
          "output_type": "stream",
          "name": "stdout",
          "text": [
            "32.0\n",
            "163.4\n"
          ]
        }
      ],
      "source": [
        "def celsius_to_fahrenheit(celsius):\n",
        "  fahrenheit=(celsius*9/5)+32\n",
        "  return fahrenheit\n",
        "print(celsius_to_fahrenheit(0))\n",
        "print(celsius_to_fahrenheit(73))"
      ]
    },
    {
      "cell_type": "markdown",
      "id": "acefe5e3",
      "metadata": {
        "id": "acefe5e3"
      },
      "source": [
        "### Question 15\n",
        "Write a function to check if a number is palindrome."
      ]
    },
    {
      "cell_type": "code",
      "execution_count": 30,
      "id": "b700abae",
      "metadata": {
        "colab": {
          "base_uri": "https://localhost:8080/"
        },
        "id": "b700abae",
        "outputId": "81052285-9bbc-420a-9fce-c9c76bbbbe69"
      },
      "outputs": [
        {
          "output_type": "stream",
          "name": "stdout",
          "text": [
            "True\n"
          ]
        }
      ],
      "source": [
        "def is_palindrome(number):\n",
        "  number_str=str(number)\n",
        "  reversed_str=number_str[::-1]\n",
        "  if number_str==reversed_str:\n",
        "    return True\n",
        "  else:\n",
        "    return False\n",
        "print(is_palindrome(121))"
      ]
    },
    {
      "cell_type": "markdown",
      "id": "b63452cb",
      "metadata": {
        "id": "b63452cb"
      },
      "source": [
        "### Question 16\n",
        "Write a function to return all even numbers in a list."
      ]
    },
    {
      "cell_type": "code",
      "execution_count": 33,
      "id": "9d1fc968",
      "metadata": {
        "colab": {
          "base_uri": "https://localhost:8080/"
        },
        "id": "9d1fc968",
        "outputId": "be7b4d2a-c7a5-4ab4-e3d4-674306e0d680"
      },
      "outputs": [
        {
          "output_type": "stream",
          "name": "stdout",
          "text": [
            "[2, 4, 6, 8]\n"
          ]
        }
      ],
      "source": [
        "def even_numbers(input_list):\n",
        "  even_list=[]\n",
        "  for num in input_list:\n",
        "    if num%2==0:\n",
        "      even_list.append(num)\n",
        "  return even_list\n",
        "print(even_numbers([2,3,4,5,6,8,9]))"
      ]
    },
    {
      "cell_type": "markdown",
      "id": "aca524d9",
      "metadata": {
        "id": "aca524d9"
      },
      "source": [
        "### Question 17\n",
        "Write a function to return the nth Fibonacci number."
      ]
    },
    {
      "cell_type": "code",
      "execution_count": 39,
      "id": "97dc4e87",
      "metadata": {
        "colab": {
          "base_uri": "https://localhost:8080/"
        },
        "id": "97dc4e87",
        "outputId": "01b5a9e1-9dc7-40c5-cd28-4f912c44e6ac"
      },
      "outputs": [
        {
          "output_type": "stream",
          "name": "stdout",
          "text": [
            "13\n"
          ]
        }
      ],
      "source": [
        "def fibonacci(n):\n",
        "  if n == 0:\n",
        "    return 0\n",
        "  elif n == 1:\n",
        "    return 1\n",
        "  else:\n",
        "    a, b = 0, 1\n",
        "    for i in range(2, n + 1):\n",
        "      c=a+b\n",
        "      a=b\n",
        "      b=c\n",
        "    return b\n",
        "print(fibonacci(7))"
      ]
    },
    {
      "cell_type": "markdown",
      "id": "29c847dc",
      "metadata": {
        "id": "29c847dc"
      },
      "source": [
        "### Question 18\n",
        "Write a function to calculate the average of a list."
      ]
    },
    {
      "cell_type": "code",
      "execution_count": 40,
      "id": "9adc9fd2",
      "metadata": {
        "colab": {
          "base_uri": "https://localhost:8080/"
        },
        "id": "9adc9fd2",
        "outputId": "b1f6a44e-b1f6-451f-9826-e36310015984"
      },
      "outputs": [
        {
          "output_type": "stream",
          "name": "stdout",
          "text": [
            "3.0\n"
          ]
        }
      ],
      "source": [
        "def calculate_average(input_list):\n",
        "  sum=0\n",
        "  for num in input_list:\n",
        "    sum+=num\n",
        "  average=sum/len(input_list)\n",
        "  return average\n",
        "print(calculate_average([1,2,3,4,5]))"
      ]
    },
    {
      "cell_type": "markdown",
      "id": "420240fb",
      "metadata": {
        "id": "420240fb"
      },
      "source": [
        "### Question 19\n",
        "Write a function that returns a dictionary of character counts."
      ]
    },
    {
      "cell_type": "code",
      "execution_count": 42,
      "id": "95cafc54",
      "metadata": {
        "colab": {
          "base_uri": "https://localhost:8080/"
        },
        "id": "95cafc54",
        "outputId": "47aff51e-1338-4777-d178-738426ac1dc5"
      },
      "outputs": [
        {
          "output_type": "stream",
          "name": "stdout",
          "text": [
            "{'h': 1, 'e': 1, 'l': 2, 'o': 1}\n"
          ]
        }
      ],
      "source": [
        "def char_count(input_string):\n",
        "  counts={}\n",
        "  for char in input_string:\n",
        "    if char in counts:\n",
        "      counts[char]+=1\n",
        "    else:\n",
        "      counts[char]=1\n",
        "  return counts\n",
        "print(char_count(\"hello\"))"
      ]
    },
    {
      "cell_type": "markdown",
      "id": "17629a07",
      "metadata": {
        "id": "17629a07"
      },
      "source": [
        "### Question 20\n",
        "Write a function that returns True if all list elements are unique."
      ]
    },
    {
      "cell_type": "code",
      "execution_count": 43,
      "id": "fe4f8820",
      "metadata": {
        "colab": {
          "base_uri": "https://localhost:8080/"
        },
        "id": "fe4f8820",
        "outputId": "30958f2a-c47a-40b1-872a-3ac27d92ed29"
      },
      "outputs": [
        {
          "output_type": "stream",
          "name": "stdout",
          "text": [
            "True\n",
            "False\n"
          ]
        }
      ],
      "source": [
        "def all_unique(input_list):\n",
        "  unique_set=set(input_list)\n",
        "  if len(unique_set)==len(input_list):\n",
        "    return True\n",
        "  else:\n",
        "    return False\n",
        "print(all_unique([1,2,3,4,5]))\n",
        "print(all_unique([1,2,2,3,4,5]))"
      ]
    },
    {
      "cell_type": "markdown",
      "id": "91dc87b9",
      "metadata": {
        "id": "91dc87b9"
      },
      "source": [
        "### Question 21\n",
        "Write a function that returns dot product of two list of numbers"
      ]
    },
    {
      "cell_type": "code",
      "execution_count": 45,
      "id": "87c3fa4b",
      "metadata": {
        "colab": {
          "base_uri": "https://localhost:8080/"
        },
        "id": "87c3fa4b",
        "outputId": "18999533-84b5-4408-dcf0-589887eec119"
      },
      "outputs": [
        {
          "output_type": "stream",
          "name": "stdout",
          "text": [
            "70\n"
          ]
        }
      ],
      "source": [
        "def dot_product(list1,list2):\n",
        "  if len(list1)!=len(list2):\n",
        "    return None\n",
        "  product=0\n",
        "  for i in range(len(list1)):\n",
        "    product+=list1[i]*list2[i]\n",
        "  return product\n",
        "print(dot_product([1,2,3,4],[5,6,7,8]))"
      ]
    },
    {
      "cell_type": "markdown",
      "id": "5eeb0527",
      "metadata": {
        "id": "5eeb0527"
      },
      "source": [
        "### Question 22\n",
        "Write a function that returns the projection of vector a onto vector b. Both a and b are given as list of numbers"
      ]
    },
    {
      "cell_type": "code",
      "execution_count": 47,
      "id": "d2c2439f",
      "metadata": {
        "colab": {
          "base_uri": "https://localhost:8080/"
        },
        "id": "d2c2439f",
        "outputId": "d1b8280a-6344-4855-8abf-b162c7c68bc5"
      },
      "outputs": [
        {
          "output_type": "stream",
          "name": "stdout",
          "text": [
            "[3.0, 0.0]\n"
          ]
        }
      ],
      "source": [
        "def vector_projection(a,b):\n",
        "  dot_product=0\n",
        "  for i in range(len(a)):\n",
        "    dot_product+=a[i]*b[i]\n",
        "  b_magnitude_squared=0\n",
        "  for i in range(len(b)):\n",
        "    b_magnitude_squared+=b[i]*b[i]\n",
        "  if b_magnitude_squared==0:\n",
        "    return \"cannot project onto zero vector\"\n",
        "  scalar = dot_product/b_magnitude_squared\n",
        "  projection=[]\n",
        "  for i in range(len(b)):\n",
        "    projection.append(scalar*b[i])\n",
        "  return projection\n",
        "print(vector_projection([3,4],[1,0]))"
      ]
    },
    {
      "cell_type": "markdown",
      "id": "1410b385",
      "metadata": {
        "id": "1410b385"
      },
      "source": [
        "### Question 23\n",
        "Write a function to return common elements between two lists."
      ]
    },
    {
      "cell_type": "code",
      "execution_count": 49,
      "id": "2cee584c",
      "metadata": {
        "colab": {
          "base_uri": "https://localhost:8080/"
        },
        "id": "2cee584c",
        "outputId": "34b0141d-50cd-4742-f9a7-418e5fe1167e"
      },
      "outputs": [
        {
          "output_type": "stream",
          "name": "stdout",
          "text": [
            "[3, 4]\n"
          ]
        }
      ],
      "source": [
        "def common_elements(list1,list2):\n",
        "  common=[]\n",
        "  for element in list1:\n",
        "    if element in list2:\n",
        "      common.append(element)\n",
        "  return common\n",
        "print(common_elements([1,2,3,4],[3,4,5,6]))"
      ]
    },
    {
      "cell_type": "markdown",
      "id": "23ab5210",
      "metadata": {
        "id": "23ab5210"
      },
      "source": [
        "### Question 24\n",
        "Create a class Vector that supports addition, dot product, and magnitude."
      ]
    },
    {
      "cell_type": "code",
      "execution_count": 55,
      "id": "f6b18fd7",
      "metadata": {
        "colab": {
          "base_uri": "https://localhost:8080/"
        },
        "id": "f6b18fd7",
        "outputId": "d29594cd-9156-4ac7-820d-6626db1b9673"
      },
      "outputs": [
        {
          "output_type": "stream",
          "name": "stdout",
          "text": [
            "Vector([5, 7, 9])\n",
            "32\n",
            "3.7416573867739413\n"
          ]
        }
      ],
      "source": [
        "import math\n",
        "\n",
        "class Vector:\n",
        "    def __init__(self, components):\n",
        "        self.components = components\n",
        "\n",
        "    def __add__(self, other):\n",
        "        if len(self.components) != len(other.components):\n",
        "            raise ValueError(\"Vectors must be the same dimension for addition.\")\n",
        "        result = []\n",
        "        for i in range(len(self.components)):\n",
        "            result.append(self.components[i] + other.components[i])\n",
        "        return Vector(result)\n",
        "\n",
        "    def dot(self, other):\n",
        "        if len(self.components) != len(other.components):\n",
        "            raise ValueError(\"Vectors must be the same dimension for dot product.\")\n",
        "        dot_product = 0\n",
        "        for i in range(len(self.components)):\n",
        "            dot_product += self.components[i] * other.components[i]\n",
        "        return dot_product\n",
        "\n",
        "    def magnitude(self):\n",
        "        mag_squared = 0\n",
        "        for x in self.components:\n",
        "            mag_squared += x * x\n",
        "        return math.sqrt(mag_squared)\n",
        "\n",
        "    def __repr__(self):\n",
        "        return f\"Vector({self.components})\"\n",
        "\n",
        "v1=Vector([1,2,3])\n",
        "v2=Vector([4,5,6])\n",
        "v3=v1+v2\n",
        "print(v3)\n",
        "print(v1.dot(v2))\n",
        "print(v1.magnitude())"
      ]
    },
    {
      "cell_type": "markdown",
      "id": "a0621aba",
      "metadata": {
        "id": "a0621aba"
      },
      "source": [
        "### Question 25\n",
        "Implement a function to return all outliers in a list based on the IQR method."
      ]
    },
    {
      "cell_type": "code",
      "execution_count": 59,
      "id": "460a8994",
      "metadata": {
        "colab": {
          "base_uri": "https://localhost:8080/"
        },
        "id": "460a8994",
        "outputId": "6f59abce-4987-4539-9c84-7c498e962842"
      },
      "outputs": [
        {
          "output_type": "execute_result",
          "data": {
            "text/plain": [
              "[100]"
            ]
          },
          "metadata": {},
          "execution_count": 59
        }
      ],
      "source": [
        "\n",
        "\n",
        "def iqr_outliers(data):\n",
        "\n",
        "    sorted_data = sorted(data)\n",
        "\n",
        "\n",
        "    n = len(sorted_data)\n",
        "    q1_index = (n + 1) // 4 - 1\n",
        "    q3_index = (3 * (n + 1)) // 4 - 1\n",
        "\n",
        "    q1 = sorted_data[q1_index]\n",
        "    q3 = sorted_data[q3_index]\n",
        "\n",
        "\n",
        "    iqr = q3 - q1\n",
        "\n",
        "\n",
        "    lower_bound = q1 - 1.5 * iqr\n",
        "    upper_bound = q3 + 1.5 * iqr\n",
        "\n",
        "    outliers = []\n",
        "    for x in data:\n",
        "        if x < lower_bound or x > upper_bound:\n",
        "            outliers.append(x)\n",
        "\n",
        "    return outliers\n",
        "\n",
        "\n",
        "data = [1, 2, 3, 4, 5, 6, 7, 8, 9, 10, 100]\n",
        "outliers = iqr_outliers(data)\n",
        "outliers"
      ]
    },
    {
      "cell_type": "markdown",
      "id": "f0be510e",
      "metadata": {
        "id": "f0be510e"
      },
      "source": [
        "### Question 26\n",
        "Function with default arguments:\n",
        "Create a function to compute variance with an option to use sample or population formula"
      ]
    },
    {
      "cell_type": "code",
      "execution_count": 60,
      "id": "941d732d",
      "metadata": {
        "colab": {
          "base_uri": "https://localhost:8080/"
        },
        "id": "941d732d",
        "outputId": "25588909-ed52-46b0-d2ad-b04861117c81"
      },
      "outputs": [
        {
          "output_type": "stream",
          "name": "stdout",
          "text": [
            "Sample Variance: 2.5\n",
            "Population Variance: 2.0\n",
            "Sample Variance: 62.5\n",
            "Population Variance: 50.0\n"
          ]
        }
      ],
      "source": [
        "\n",
        "def calculate_variance(data, sample=True):\n",
        "\n",
        "  n = len(data)\n",
        "  if n == 0:\n",
        "    return 0.0\n",
        "\n",
        "  mean = sum(data) / n\n",
        "  squared_diffs = [(x - mean) ** 2 for x in data]\n",
        "\n",
        "  if sample:\n",
        "    if n < 2:\n",
        "      raise ValueError(\"Sample variance requires at least two data points.\")\n",
        "    return sum(squared_diffs) / (n - 1)\n",
        "  else:\n",
        "    return sum(squared_diffs) / n\n",
        "\n",
        "data1 = [1, 2, 3, 4, 5]\n",
        "print(f\"Sample Variance: {calculate_variance(data1)}\")\n",
        "print(f\"Population Variance: {calculate_variance(data1, sample=False)}\")\n",
        "\n",
        "data2 = [10, 15, 20, 25, 30]\n",
        "print(f\"Sample Variance: {calculate_variance(data2)}\")\n",
        "print(f\"Population Variance: {calculate_variance(data2, sample=False)}\")"
      ]
    },
    {
      "cell_type": "markdown",
      "id": "c39be0f1",
      "metadata": {
        "id": "c39be0f1"
      },
      "source": [
        "### Question 27\n",
        "Create a list of squares of even numbers between 1 and 20 using list comprehension."
      ]
    },
    {
      "cell_type": "code",
      "execution_count": 61,
      "id": "9e4ba74a",
      "metadata": {
        "colab": {
          "base_uri": "https://localhost:8080/"
        },
        "id": "9e4ba74a",
        "outputId": "ed919e6c-4bad-490b-c146-a8b2e71777bd"
      },
      "outputs": [
        {
          "output_type": "stream",
          "name": "stdout",
          "text": [
            "[4, 16, 36, 64, 100, 144, 196, 256, 324, 400]\n"
          ]
        }
      ],
      "source": [
        "squares = [x**2 for x in range(2, 21, 2)]\n",
        "print(squares)"
      ]
    },
    {
      "cell_type": "markdown",
      "id": "b43c266d",
      "metadata": {
        "id": "b43c266d"
      },
      "source": [
        "### Question 28\n",
        "Write a function that returns the L1 and L2 norms of a vector given as list"
      ]
    },
    {
      "cell_type": "code",
      "execution_count": 62,
      "id": "4f5dc876",
      "metadata": {
        "colab": {
          "base_uri": "https://localhost:8080/"
        },
        "id": "4f5dc876",
        "outputId": "acb9b98d-b765-40fd-defa-02308e6e9fcc"
      },
      "outputs": [
        {
          "output_type": "stream",
          "name": "stdout",
          "text": [
            "L1 Norm: 12\n",
            "L2 Norm: 7.0710678118654755\n"
          ]
        }
      ],
      "source": [
        "def compute_norms(vector):\n",
        "  l1=sum(abs(x)for x in vector)\n",
        "  l2=sum(x**2 for x in vector)**0.5\n",
        "  return l1,l2\n",
        "v=[3,-4,5]\n",
        "li_norm, l2_norm = compute_norms(v)\n",
        "print(f\"L1 Norm: {li_norm}\")\n",
        "print(f\"L2 Norm: {l2_norm}\")"
      ]
    },
    {
      "cell_type": "markdown",
      "id": "2007915f",
      "metadata": {
        "id": "2007915f"
      },
      "source": [
        "### Question 29\n",
        "Write a function that computes the 95% confidence interval for the mean of a list of numbers assuming normal distribution."
      ]
    },
    {
      "cell_type": "code",
      "execution_count": 64,
      "id": "8634dc63",
      "metadata": {
        "colab": {
          "base_uri": "https://localhost:8080/"
        },
        "id": "8634dc63",
        "outputId": "79c0a07e-d883-4b07-ff6e-1cc3f113dd4b"
      },
      "outputs": [
        {
          "output_type": "stream",
          "name": "stdout",
          "text": [
            "95% Confidence Interval for the mean: (3.6234428687975773, 7.376557131202423)\n",
            "95% Confidence Interval for the mean: (0.52, 2.48)\n",
            "Confidence interval requires at least two data points.\n"
          ]
        }
      ],
      "source": [
        "def confidence_interval_mean(data):\n",
        "    n = len(data)\n",
        "    if n < 2:\n",
        "        raise ValueError(\"Confidence interval requires at least two data points.\")\n",
        "\n",
        "\n",
        "    mean = sum(data) / n\n",
        "    sum_squared_diffs = sum([(x - mean) ** 2 for x in data])\n",
        "    sample_std_dev = (sum_squared_diffs / (n - 1)) ** 0.5\n",
        "    z_score_95 = 1.96\n",
        "    margin_of_error = z_score_95 * (sample_std_dev / (n ** 0.5))\n",
        "    lower_bound = mean - margin_of_error\n",
        "    upper_bound = mean + margin_of_error\n",
        "\n",
        "    return (lower_bound, upper_bound)\n",
        "data = [1, 2, 3, 4, 5, 6, 7, 8, 9, 10]\n",
        "try:\n",
        "    ci = confidence_interval_mean(data)\n",
        "    print(f\"95% Confidence Interval for the mean: {ci}\")\n",
        "except ValueError as e:\n",
        "    print(e)\n",
        "\n",
        "data_small = [1, 2]\n",
        "try:\n",
        "    ci_small = confidence_interval_mean(data_small)\n",
        "    print(f\"95% Confidence Interval for the mean: {ci_small}\")\n",
        "except ValueError as e:\n",
        "    print(e)\n",
        "\n",
        "data_single = [5]\n",
        "try:\n",
        "    ci_single = confidence_interval_mean(data_single)\n",
        "    print(f\"95% Confidence Interval for the mean: {ci_single}\")\n",
        "except ValueError as e:\n",
        "    print(e)"
      ]
    },
    {
      "cell_type": "markdown",
      "id": "08df3afb",
      "metadata": {
        "id": "08df3afb"
      },
      "source": [
        "### Question 30\n",
        "Given a list of categorical values, create a frequency distribution dictionary."
      ]
    },
    {
      "cell_type": "code",
      "execution_count": 65,
      "id": "c9b88531",
      "metadata": {
        "colab": {
          "base_uri": "https://localhost:8080/"
        },
        "id": "c9b88531",
        "outputId": "f7964403-3145-40de-d2a4-2da8ae47cf04"
      },
      "outputs": [
        {
          "output_type": "execute_result",
          "data": {
            "text/plain": [
              "{'apple': 3, 'banana': 2, 'orange': 1}"
            ]
          },
          "metadata": {},
          "execution_count": 65
        }
      ],
      "source": [
        "def frequency_distribution(categorical_list):\n",
        "\n",
        "  frequency_dict = {}\n",
        "  for item in categorical_list:\n",
        "    if item in frequency_dict:\n",
        "      frequency_dict[item] += 1\n",
        "    else:\n",
        "      frequency_dict[item] = 1\n",
        "  return frequency_dict\n",
        "categories = [\"apple\", \"banana\", \"apple\", \"orange\", \"banana\", \"apple\"]\n",
        "freq_dist = frequency_distribution(categories)\n",
        "freq_dist"
      ]
    }
  ],
  "metadata": {
    "language_info": {
      "name": "python"
    },
    "colab": {
      "provenance": []
    },
    "kernelspec": {
      "name": "python3",
      "display_name": "Python 3"
    }
  },
  "nbformat": 4,
  "nbformat_minor": 5
}